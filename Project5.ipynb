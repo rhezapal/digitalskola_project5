{
  "nbformat": 4,
  "nbformat_minor": 0,
  "metadata": {
    "colab": {
      "provenance": [],
      "authorship_tag": "ABX9TyNwCPARtYvhkp3SYiJrjMA4",
      "include_colab_link": true
    },
    "kernelspec": {
      "name": "python3",
      "display_name": "Python 3"
    },
    "language_info": {
      "name": "python"
    }
  },
  "cells": [
    {
      "cell_type": "markdown",
      "metadata": {
        "id": "view-in-github",
        "colab_type": "text"
      },
      "source": [
        "<a href=\"https://colab.research.google.com/github/rhezapal/digitalskola_project5/blob/main/Project5.ipynb\" target=\"_parent\"><img src=\"https://colab.research.google.com/assets/colab-badge.svg\" alt=\"Open In Colab\"/></a>"
      ]
    },
    {
      "cell_type": "markdown",
      "source": [
        "# Project 5"
      ],
      "metadata": {
        "id": "ARUV0TLVp5a3"
      }
    },
    {
      "cell_type": "markdown",
      "source": [
        "Tugas : Download the February 2021 data from TLC Trip Record website (For-Hired Vehicle\n",
        "Trip Records) (https://www1.nyc.gov/site/tlc/about/tlc-trip-record-data.page) and use\n",
        "Pyspark to analyze and answer these questions below. Upload your script into Github or\n",
        "Gdrive.\n",
        "1. How many taxi trips were there on February 15?\n",
        "2. Find the longest trip for each day ?\n",
        "3. Find Top 5 Most frequent `dispatching_base_num` ?\n",
        "4. Find Top 5 Most common location pairs (`PUlocationID` and `DOlocationID`) ?\n",
        "5. Write all of the result to BigQuery table (additional - point plus)\n",
        "*dapat menggunakan google colab untuk menyelesaikan tugas"
      ],
      "metadata": {
        "id": "T5-6nyPiU1FT"
      }
    },
    {
      "cell_type": "code",
      "execution_count": 3,
      "metadata": {
        "id": "3SFmkCgqUdWg"
      },
      "outputs": [],
      "source": [
        "!pip install -q findspark"
      ]
    },
    {
      "cell_type": "code",
      "source": [
        "!pip install pyspark"
      ],
      "metadata": {
        "colab": {
          "base_uri": "https://localhost:8080/"
        },
        "id": "3BdJdvGFU_ag",
        "outputId": "e57deeb4-7c9f-4d5b-ae89-c579e25e2d1a"
      },
      "execution_count": 4,
      "outputs": [
        {
          "output_type": "stream",
          "name": "stdout",
          "text": [
            "Looking in indexes: https://pypi.org/simple, https://us-python.pkg.dev/colab-wheels/public/simple/\n",
            "Collecting pyspark\n",
            "  Downloading pyspark-3.4.0.tar.gz (310.8 MB)\n",
            "\u001b[2K     \u001b[90m━━━━━━━━━━━━━━━━━━━━━━━━━━━━━━━━━━━━━━━\u001b[0m \u001b[32m310.8/310.8 MB\u001b[0m \u001b[31m3.1 MB/s\u001b[0m eta \u001b[36m0:00:00\u001b[0m\n",
            "\u001b[?25h  Preparing metadata (setup.py) ... \u001b[?25l\u001b[?25hdone\n",
            "Requirement already satisfied: py4j==0.10.9.7 in /usr/local/lib/python3.10/dist-packages (from pyspark) (0.10.9.7)\n",
            "Building wheels for collected packages: pyspark\n",
            "  Building wheel for pyspark (setup.py) ... \u001b[?25l\u001b[?25hdone\n",
            "  Created wheel for pyspark: filename=pyspark-3.4.0-py2.py3-none-any.whl size=311317145 sha256=8739fceb1ddc8325661f20a08be1d78e91087e2d3c6e90df096ab2b4b58d29c1\n",
            "  Stored in directory: /root/.cache/pip/wheels/7b/1b/4b/3363a1d04368e7ff0d408e57ff57966fcdf00583774e761327\n",
            "Successfully built pyspark\n",
            "Installing collected packages: pyspark\n",
            "Successfully installed pyspark-3.4.0\n"
          ]
        }
      ]
    },
    {
      "cell_type": "code",
      "source": [
        "import findspark"
      ],
      "metadata": {
        "id": "aSh-lhYEkGlO"
      },
      "execution_count": 5,
      "outputs": []
    },
    {
      "cell_type": "code",
      "source": [
        "#Initialization Spark\n",
        "findspark.init()"
      ],
      "metadata": {
        "id": "StuK_hszkJUR"
      },
      "execution_count": 6,
      "outputs": []
    },
    {
      "cell_type": "code",
      "source": [
        "#Import Package\n",
        "from pyspark.sql import SparkSession\n",
        "from pyspark.sql.functions import *\n",
        "from pyspark.sql.types import *\n",
        "from pyspark.sql.window import Window"
      ],
      "metadata": {
        "id": "1Mr721ejVVkf"
      },
      "execution_count": 7,
      "outputs": []
    },
    {
      "cell_type": "code",
      "source": [
        "#Create SparkSession\n",
        "spark = SparkSession.builder.master('local[*]').appName('project5').getOrCreate()"
      ],
      "metadata": {
        "id": "vm9cCXDkkO02"
      },
      "execution_count": 8,
      "outputs": []
    },
    {
      "cell_type": "code",
      "source": [
        "spark"
      ],
      "metadata": {
        "id": "Mr2ngTL7VDFn",
        "colab": {
          "base_uri": "https://localhost:8080/",
          "height": 211
        },
        "outputId": "f4838685-28fc-42d7-ab8f-51a08a5da7a7"
      },
      "execution_count": 9,
      "outputs": [
        {
          "output_type": "execute_result",
          "data": {
            "text/plain": [
              "<pyspark.sql.session.SparkSession at 0x7f7e7f6d7340>"
            ],
            "text/html": [
              "\n",
              "            <div>\n",
              "                <p><b>SparkSession - in-memory</b></p>\n",
              "                \n",
              "        <div>\n",
              "            <p><b>SparkContext</b></p>\n",
              "\n",
              "            <p><a href=\"http://efd0c77f3210:4040\">Spark UI</a></p>\n",
              "\n",
              "            <dl>\n",
              "              <dt>Version</dt>\n",
              "                <dd><code>v3.4.0</code></dd>\n",
              "              <dt>Master</dt>\n",
              "                <dd><code>local[*]</code></dd>\n",
              "              <dt>AppName</dt>\n",
              "                <dd><code>project5</code></dd>\n",
              "            </dl>\n",
              "        </div>\n",
              "        \n",
              "            </div>\n",
              "        "
            ]
          },
          "metadata": {},
          "execution_count": 9
        }
      ]
    },
    {
      "cell_type": "code",
      "source": [
        "#Load dataset parquet\n",
        "df = spark.read.parquet('/content/fhv_tripdata_2021-02.parquet')"
      ],
      "metadata": {
        "id": "j2eu5lpMVFi4"
      },
      "execution_count": 10,
      "outputs": []
    },
    {
      "cell_type": "code",
      "source": [
        "#Show dataset\n",
        "df.show()"
      ],
      "metadata": {
        "colab": {
          "base_uri": "https://localhost:8080/"
        },
        "id": "Bg1Wv3MZS1sz",
        "outputId": "80c2e978-f644-4c87-8359-98d85a66cf3c"
      },
      "execution_count": 11,
      "outputs": [
        {
          "output_type": "stream",
          "name": "stdout",
          "text": [
            "+--------------------+-------------------+-------------------+------------+------------+-------+----------------------+\n",
            "|dispatching_base_num|    pickup_datetime|   dropOff_datetime|PUlocationID|DOlocationID|SR_Flag|Affiliated_base_number|\n",
            "+--------------------+-------------------+-------------------+------------+------------+-------+----------------------+\n",
            "|              B00013|2021-02-01 00:01:00|2021-02-01 01:33:00|        null|        null|   null|                B00014|\n",
            "|     B00021         |2021-02-01 00:55:40|2021-02-01 01:06:20|       173.0|        82.0|   null|       B00021         |\n",
            "|     B00021         |2021-02-01 00:14:03|2021-02-01 00:28:37|       173.0|        56.0|   null|       B00021         |\n",
            "|     B00021         |2021-02-01 00:27:48|2021-02-01 00:35:45|        82.0|       129.0|   null|       B00021         |\n",
            "|              B00037|2021-02-01 00:12:50|2021-02-01 00:26:38|        null|       225.0|   null|                B00037|\n",
            "|              B00037|2021-02-01 00:00:37|2021-02-01 00:09:35|        null|        61.0|   null|                B00037|\n",
            "|              B00112|2021-02-01 00:30:25|2021-02-01 00:57:23|        null|        26.0|   null|                B00112|\n",
            "|              B00149|2021-02-01 00:43:16|2021-02-01 01:03:16|        null|        72.0|   null|                B00149|\n",
            "|              B00221|2021-02-01 00:20:45|2021-02-01 00:21:15|        null|       244.0|   null|                B00221|\n",
            "|              B00225|2021-02-01 00:23:27|2021-02-01 00:55:46|        null|       169.0|   null|                B00225|\n",
            "|              B00225|2021-02-01 00:10:38|2021-02-01 00:50:15|        null|       161.0|   null|                B02872|\n",
            "|              B00254|2021-02-01 00:05:46|2021-02-01 00:40:41|        13.0|       182.0|   null|                B00254|\n",
            "|              B00254|2021-02-01 00:14:25|2021-02-01 00:24:56|       152.0|       244.0|   null|                B02872|\n",
            "|              B00256|2021-02-01 00:30:43|2021-02-01 01:32:39|        null|        null|   null|                B00256|\n",
            "|              B00256|2021-02-01 00:39:11|2021-02-01 01:18:44|        null|        null|   null|                B00256|\n",
            "|              B00256|2021-02-01 00:33:24|2021-02-01 01:23:44|        null|        null|   null|                B00256|\n",
            "|              B00256|2021-02-01 00:05:19|2021-02-01 00:24:40|        null|        null|   null|                B00256|\n",
            "|              B00271|2021-02-01 00:04:07|2021-02-01 01:03:03|        null|       265.0|   null|                B00271|\n",
            "|              B00271|2021-02-01 00:07:13|2021-02-01 00:08:49|        null|       237.0|   null|                B00271|\n",
            "|              B00310|2021-02-01 00:11:21|2021-02-01 00:15:44|        null|       248.0|   null|                B00310|\n",
            "+--------------------+-------------------+-------------------+------------+------------+-------+----------------------+\n",
            "only showing top 20 rows\n",
            "\n"
          ]
        }
      ]
    },
    {
      "cell_type": "code",
      "source": [
        "df.printSchema()"
      ],
      "metadata": {
        "colab": {
          "base_uri": "https://localhost:8080/"
        },
        "id": "-5-iw-IZjjMx",
        "outputId": "2a3b83dd-ed8c-4ecb-c732-a967e227e8a4"
      },
      "execution_count": 12,
      "outputs": [
        {
          "output_type": "stream",
          "name": "stdout",
          "text": [
            "root\n",
            " |-- dispatching_base_num: string (nullable = true)\n",
            " |-- pickup_datetime: timestamp_ntz (nullable = true)\n",
            " |-- dropOff_datetime: timestamp_ntz (nullable = true)\n",
            " |-- PUlocationID: double (nullable = true)\n",
            " |-- DOlocationID: double (nullable = true)\n",
            " |-- SR_Flag: integer (nullable = true)\n",
            " |-- Affiliated_base_number: string (nullable = true)\n",
            "\n"
          ]
        }
      ]
    },
    {
      "cell_type": "markdown",
      "source": [
        "#1. How many taxi trips were there on February 15?"
      ],
      "metadata": {
        "id": "AhgmmabV8wB0"
      }
    },
    {
      "cell_type": "code",
      "source": [
        "df_1 = df.withColumn('pickup_datetime', to_date(col('pickup_datetime'),\"yyyy-MM-dd\"))\n",
        "#column pickup_datetime = yyyy-MM-dd HH-mm-ss --> yyyy-MM-dd = withColumn (name_column, col), col -> change the date type.\n",
        "#col = (to_date(name_column), dateformat)\n",
        "\n",
        "df_1_result = df_1.groupBy ('pickup_datetime') \\\n",
        "              .agg(count(\"*\").alias(\"total_trip\")) \\\n",
        "              .filter (df_1.pickup_datetime =='2021-02-15')\n",
        "#aggregation-> grouping by pickup_datetime, counting, and filter for spesific date."
      ],
      "metadata": {
        "id": "2o2INAPh8PNY"
      },
      "execution_count": 13,
      "outputs": []
    },
    {
      "cell_type": "code",
      "source": [
        "df_1_result.show()"
      ],
      "metadata": {
        "colab": {
          "base_uri": "https://localhost:8080/"
        },
        "id": "q-66aoR_ehcu",
        "outputId": "c13e0a07-b845-4ba6-bec7-d2e420dd1d7d"
      },
      "execution_count": 14,
      "outputs": [
        {
          "output_type": "stream",
          "name": "stdout",
          "text": [
            "+---------------+----------+\n",
            "|pickup_datetime|total_trip|\n",
            "+---------------+----------+\n",
            "|     2021-02-15|     34814|\n",
            "+---------------+----------+\n",
            "\n"
          ]
        }
      ]
    },
    {
      "cell_type": "markdown",
      "source": [
        "#2. Find the longest trip for each day ?"
      ],
      "metadata": {
        "id": "EHA01kZa86OK"
      }
    },
    {
      "cell_type": "code",
      "source": [
        "#data type drofOff_datetime and pickup_datetime = timestamp_ntz, change to yyyy-MM-dd HH:mm:ss,\n",
        "#harus diganti, karena tipe data awalnya tidak bisa diganti langsung.\n",
        "df_2 = df\n",
        "df_2 = df_2.withColumn('pickup_datetime', to_timestamp(col('pickup_datetime'), \"yyyy-MM-dd HH:mm:ss\"))\n",
        "df_2 = df_2.withColumn('dropOff_datetime', to_timestamp(col('dropOff_datetime'), \"yyyy-MM-dd HH:mm:ss\"))\n",
        "\n",
        "#Agregasi lama perjalanan = kurangkan dropOff_datetime dan pickup_datetime, \n",
        "#sekaligus diubah ke type data double dibagi 60, agar hasilnya jadi menit\n",
        "df_2 = df_2.withColumn('trip_duration_minutes', (col('dropOff_datetime').cast(\"long\") - col('pickup_datetime').cast(\"long\")) / 60)\n",
        "\n",
        "#Kolom baru : date_group\n",
        "df_2 = df_2.withColumn('date_group', to_date(col('pickup_datetime'),\"yyyy-MM-dd\"))\n",
        "\n",
        "#Partition by Window, sorting trip_duration DESC and rank\n",
        "windowSpec  = Window.partitionBy('date_group').orderBy(col(\"trip_duration_minutes\").desc())\n",
        "df_2=df_2.withColumn(\"row_number\",row_number().over(windowSpec))\n",
        "\n",
        "#show the longest trip each day, by row_number, filter row_number=1 (the longest), sort by date, and drop thw row_number\n",
        "longest_trip = df_2.select ('date_group','dispatching_base_num','trip_duration_minutes','row_number') \\\n",
        "                   .filter (col('row_number')==1) \\\n",
        "                   .sort('date_group') \\\n",
        "                   .drop('row_number') \n",
        "longest_trip.show()"
      ],
      "metadata": {
        "colab": {
          "base_uri": "https://localhost:8080/"
        },
        "id": "6IgZfjlT2qRp",
        "outputId": "780d7eff-8e15-4178-a696-adacece95a47"
      },
      "execution_count": 46,
      "outputs": [
        {
          "output_type": "stream",
          "name": "stdout",
          "text": [
            "+----------+--------------------+---------------------+\n",
            "|date_group|dispatching_base_num|trip_duration_minutes|\n",
            "+----------+--------------------+---------------------+\n",
            "|2021-02-01|              B00477|              46290.0|\n",
            "|2021-02-02|              B01899|   1390.7833333333333|\n",
            "|2021-02-03|              B02653|    40034.88333333333|\n",
            "|2021-02-04|              B03297|             110919.0|\n",
            "|2021-02-05|              B03242|   3184.6833333333334|\n",
            "|2021-02-06|     B00889         |               1440.0|\n",
            "|2021-02-07|              B03284|   1121.3333333333333|\n",
            "|2021-02-08|              B03292|    9424.916666666666|\n",
            "|2021-02-09|     B02416         |   1459.9833333333333|\n",
            "|2021-02-10|              B01899|   3219.8166666666666|\n",
            "|2021-02-11|     B03268         |   2819.2166666666667|\n",
            "|2021-02-12|              B03211|               4344.0|\n",
            "|2021-02-13|              B03275|    8422.683333333332|\n",
            "|2021-02-14|     B00889         |               1519.4|\n",
            "|2021-02-15|              B03275|             14670.15|\n",
            "|2021-02-16|              B02709|               4816.1|\n",
            "|2021-02-17|              B03275|    4284.783333333334|\n",
            "|2021-02-18|              B03187|   1934.7666666666667|\n",
            "|2021-02-19|              B03275|              9012.15|\n",
            "|2021-02-20|              B00412|   2615.5666666666666|\n",
            "+----------+--------------------+---------------------+\n",
            "only showing top 20 rows\n",
            "\n"
          ]
        }
      ]
    },
    {
      "cell_type": "markdown",
      "source": [
        "# 3. Find Top 5 Most frequent dispatching_base_num ?"
      ],
      "metadata": {
        "id": "kdj_NFonRE1T"
      }
    },
    {
      "cell_type": "code",
      "source": [
        "df_3 = df\n",
        "df_3 = df_3.groupBy ('dispatching_base_num') \\\n",
        "           .agg (count('dispatching_base_num').alias('total')) \\\n",
        "           .sort(desc('total')) \\\n",
        "           .limit (5)\n",
        "df_3.show()\n",
        "#group by dispatching_base_num, count, sort DESC by total, limit"
      ],
      "metadata": {
        "colab": {
          "base_uri": "https://localhost:8080/"
        },
        "id": "2Q-DCitbRAJk",
        "outputId": "84f9dfc2-1e4b-4bfc-f349-28a0dfef79e5"
      },
      "execution_count": 51,
      "outputs": [
        {
          "output_type": "stream",
          "name": "stdout",
          "text": [
            "+--------------------+-----+\n",
            "|dispatching_base_num|total|\n",
            "+--------------------+-----+\n",
            "|              B00856|35077|\n",
            "|              B01312|33089|\n",
            "|              B01145|31114|\n",
            "|              B02794|30397|\n",
            "|              B03016|29794|\n",
            "+--------------------+-----+\n",
            "\n"
          ]
        }
      ]
    },
    {
      "cell_type": "markdown",
      "source": [
        "#4.Find Top 5 Most common location pairs (`PUlocationID` and `DOlocationID`) ?"
      ],
      "metadata": {
        "id": "jRIGYWdeT3ug"
      }
    },
    {
      "cell_type": "code",
      "source": [
        "df_4 = df.filter (col('PUlocationID').isNotNull() & col('DOlocationID').isNotNull())\n",
        "df_4 = df_4.groupBy('PUlocationID','DOlocationID') \\\n",
        "           .agg (count('dispatching_base_num').alias('total')) \\\n",
        "           .sort(desc('total')) \\\n",
        "           .limit (5)\n",
        "df_4.show()"
      ],
      "metadata": {
        "id": "TqkaCwtcq03T",
        "colab": {
          "base_uri": "https://localhost:8080/"
        },
        "outputId": "27f70939-fa0c-4455-c0ab-ed7922a0ecf4"
      },
      "execution_count": 55,
      "outputs": [
        {
          "output_type": "stream",
          "name": "stdout",
          "text": [
            "+------------+------------+-----+\n",
            "|PUlocationID|DOlocationID|total|\n",
            "+------------+------------+-----+\n",
            "|       206.0|       206.0| 2374|\n",
            "|       221.0|       206.0| 2112|\n",
            "|       129.0|       129.0| 1902|\n",
            "|         7.0|         7.0| 1829|\n",
            "|       179.0|       179.0| 1736|\n",
            "+------------+------------+-----+\n",
            "\n"
          ]
        }
      ]
    },
    {
      "cell_type": "markdown",
      "source": [
        "# 5.Write all of the result to BigQuery table (additional - point plus)"
      ],
      "metadata": {
        "id": "LJlIn_BCWIu4"
      }
    },
    {
      "cell_type": "code",
      "source": [
        "!pip install pandas"
      ],
      "metadata": {
        "id": "n8Ce84P0wKJG",
        "colab": {
          "base_uri": "https://localhost:8080/"
        },
        "outputId": "dce12bc6-39c4-4052-c57c-2240ec3a3189"
      },
      "execution_count": 56,
      "outputs": [
        {
          "output_type": "stream",
          "name": "stdout",
          "text": [
            "Looking in indexes: https://pypi.org/simple, https://us-python.pkg.dev/colab-wheels/public/simple/\n",
            "Requirement already satisfied: pandas in /usr/local/lib/python3.10/dist-packages (1.5.3)\n",
            "Requirement already satisfied: numpy>=1.21.0 in /usr/local/lib/python3.10/dist-packages (from pandas) (1.22.4)\n",
            "Requirement already satisfied: python-dateutil>=2.8.1 in /usr/local/lib/python3.10/dist-packages (from pandas) (2.8.2)\n",
            "Requirement already satisfied: pytz>=2020.1 in /usr/local/lib/python3.10/dist-packages (from pandas) (2022.7.1)\n",
            "Requirement already satisfied: six>=1.5 in /usr/local/lib/python3.10/dist-packages (from python-dateutil>=2.8.1->pandas) (1.16.0)\n"
          ]
        }
      ]
    },
    {
      "cell_type": "code",
      "source": [
        "!pip install pandas-gbq"
      ],
      "metadata": {
        "id": "wIkp3yo7wPzC",
        "colab": {
          "base_uri": "https://localhost:8080/"
        },
        "outputId": "b0f5a58c-dbe6-476e-dba8-69752d96d761"
      },
      "execution_count": 57,
      "outputs": [
        {
          "output_type": "stream",
          "name": "stdout",
          "text": [
            "Looking in indexes: https://pypi.org/simple, https://us-python.pkg.dev/colab-wheels/public/simple/\n",
            "Requirement already satisfied: pandas-gbq in /usr/local/lib/python3.10/dist-packages (0.17.9)\n",
            "Requirement already satisfied: setuptools in /usr/local/lib/python3.10/dist-packages (from pandas-gbq) (67.7.2)\n",
            "Requirement already satisfied: pydata-google-auth in /usr/local/lib/python3.10/dist-packages (from pandas-gbq) (1.7.0)\n",
            "Requirement already satisfied: pyarrow<10.0dev,>=3.0.0 in /usr/local/lib/python3.10/dist-packages (from pandas-gbq) (9.0.0)\n",
            "Requirement already satisfied: numpy>=1.16.6 in /usr/local/lib/python3.10/dist-packages (from pandas-gbq) (1.22.4)\n",
            "Requirement already satisfied: google-auth-oauthlib>=0.0.1 in /usr/local/lib/python3.10/dist-packages (from pandas-gbq) (1.0.0)\n",
            "Requirement already satisfied: google-auth>=1.25.0 in /usr/local/lib/python3.10/dist-packages (from pandas-gbq) (2.17.3)\n",
            "Requirement already satisfied: google-api-core!=2.0.*,!=2.1.*,!=2.2.*,!=2.3.0,<3.0.0dev,>=1.31.5 in /usr/local/lib/python3.10/dist-packages (from pandas-gbq) (2.11.0)\n",
            "Requirement already satisfied: db-dtypes<2.0.0,>=0.3.1 in /usr/local/lib/python3.10/dist-packages (from pandas-gbq) (1.1.1)\n",
            "Requirement already satisfied: pandas>=0.24.2 in /usr/local/lib/python3.10/dist-packages (from pandas-gbq) (1.5.3)\n",
            "Requirement already satisfied: google-cloud-bigquery!=2.4.*,<4.0.0dev,>=1.27.2 in /usr/local/lib/python3.10/dist-packages (from pandas-gbq) (3.9.0)\n",
            "Requirement already satisfied: google-cloud-bigquery-storage<3.0.0dev,>=1.1.0 in /usr/local/lib/python3.10/dist-packages (from pandas-gbq) (2.19.1)\n",
            "Requirement already satisfied: packaging>=17.0 in /usr/local/lib/python3.10/dist-packages (from db-dtypes<2.0.0,>=0.3.1->pandas-gbq) (23.1)\n",
            "Requirement already satisfied: googleapis-common-protos<2.0dev,>=1.56.2 in /usr/local/lib/python3.10/dist-packages (from google-api-core!=2.0.*,!=2.1.*,!=2.2.*,!=2.3.0,<3.0.0dev,>=1.31.5->pandas-gbq) (1.59.0)\n",
            "Requirement already satisfied: protobuf!=3.20.0,!=3.20.1,!=4.21.0,!=4.21.1,!=4.21.2,!=4.21.3,!=4.21.4,!=4.21.5,<5.0.0dev,>=3.19.5 in /usr/local/lib/python3.10/dist-packages (from google-api-core!=2.0.*,!=2.1.*,!=2.2.*,!=2.3.0,<3.0.0dev,>=1.31.5->pandas-gbq) (3.20.3)\n",
            "Requirement already satisfied: requests<3.0.0dev,>=2.18.0 in /usr/local/lib/python3.10/dist-packages (from google-api-core!=2.0.*,!=2.1.*,!=2.2.*,!=2.3.0,<3.0.0dev,>=1.31.5->pandas-gbq) (2.27.1)\n",
            "Requirement already satisfied: six>=1.9.0 in /usr/local/lib/python3.10/dist-packages (from google-auth>=1.25.0->pandas-gbq) (1.16.0)\n",
            "Requirement already satisfied: pyasn1-modules>=0.2.1 in /usr/local/lib/python3.10/dist-packages (from google-auth>=1.25.0->pandas-gbq) (0.3.0)\n",
            "Requirement already satisfied: rsa<5,>=3.1.4 in /usr/local/lib/python3.10/dist-packages (from google-auth>=1.25.0->pandas-gbq) (4.9)\n",
            "Requirement already satisfied: cachetools<6.0,>=2.0.0 in /usr/local/lib/python3.10/dist-packages (from google-auth>=1.25.0->pandas-gbq) (5.3.0)\n",
            "Requirement already satisfied: requests-oauthlib>=0.7.0 in /usr/local/lib/python3.10/dist-packages (from google-auth-oauthlib>=0.0.1->pandas-gbq) (1.3.1)\n",
            "Requirement already satisfied: python-dateutil<3.0dev,>=2.7.2 in /usr/local/lib/python3.10/dist-packages (from google-cloud-bigquery!=2.4.*,<4.0.0dev,>=1.27.2->pandas-gbq) (2.8.2)\n",
            "Requirement already satisfied: proto-plus<2.0.0dev,>=1.15.0 in /usr/local/lib/python3.10/dist-packages (from google-cloud-bigquery!=2.4.*,<4.0.0dev,>=1.27.2->pandas-gbq) (1.22.2)\n",
            "Requirement already satisfied: google-resumable-media<3.0dev,>=0.6.0 in /usr/local/lib/python3.10/dist-packages (from google-cloud-bigquery!=2.4.*,<4.0.0dev,>=1.27.2->pandas-gbq) (2.5.0)\n",
            "Requirement already satisfied: grpcio<2.0dev,>=1.47.0 in /usr/local/lib/python3.10/dist-packages (from google-cloud-bigquery!=2.4.*,<4.0.0dev,>=1.27.2->pandas-gbq) (1.54.0)\n",
            "Requirement already satisfied: google-cloud-core<3.0.0dev,>=1.6.0 in /usr/local/lib/python3.10/dist-packages (from google-cloud-bigquery!=2.4.*,<4.0.0dev,>=1.27.2->pandas-gbq) (2.3.2)\n",
            "Requirement already satisfied: pytz>=2020.1 in /usr/local/lib/python3.10/dist-packages (from pandas>=0.24.2->pandas-gbq) (2022.7.1)\n",
            "Requirement already satisfied: grpcio-status<2.0dev,>=1.33.2 in /usr/local/lib/python3.10/dist-packages (from google-api-core!=2.0.*,!=2.1.*,!=2.2.*,!=2.3.0,<3.0.0dev,>=1.31.5->pandas-gbq) (1.48.2)\n",
            "Requirement already satisfied: google-crc32c<2.0dev,>=1.0 in /usr/local/lib/python3.10/dist-packages (from google-resumable-media<3.0dev,>=0.6.0->google-cloud-bigquery!=2.4.*,<4.0.0dev,>=1.27.2->pandas-gbq) (1.5.0)\n",
            "Requirement already satisfied: pyasn1<0.6.0,>=0.4.6 in /usr/local/lib/python3.10/dist-packages (from pyasn1-modules>=0.2.1->google-auth>=1.25.0->pandas-gbq) (0.5.0)\n",
            "Requirement already satisfied: idna<4,>=2.5 in /usr/local/lib/python3.10/dist-packages (from requests<3.0.0dev,>=2.18.0->google-api-core!=2.0.*,!=2.1.*,!=2.2.*,!=2.3.0,<3.0.0dev,>=1.31.5->pandas-gbq) (3.4)\n",
            "Requirement already satisfied: charset-normalizer~=2.0.0 in /usr/local/lib/python3.10/dist-packages (from requests<3.0.0dev,>=2.18.0->google-api-core!=2.0.*,!=2.1.*,!=2.2.*,!=2.3.0,<3.0.0dev,>=1.31.5->pandas-gbq) (2.0.12)\n",
            "Requirement already satisfied: certifi>=2017.4.17 in /usr/local/lib/python3.10/dist-packages (from requests<3.0.0dev,>=2.18.0->google-api-core!=2.0.*,!=2.1.*,!=2.2.*,!=2.3.0,<3.0.0dev,>=1.31.5->pandas-gbq) (2022.12.7)\n",
            "Requirement already satisfied: urllib3<1.27,>=1.21.1 in /usr/local/lib/python3.10/dist-packages (from requests<3.0.0dev,>=2.18.0->google-api-core!=2.0.*,!=2.1.*,!=2.2.*,!=2.3.0,<3.0.0dev,>=1.31.5->pandas-gbq) (1.26.15)\n",
            "Requirement already satisfied: oauthlib>=3.0.0 in /usr/local/lib/python3.10/dist-packages (from requests-oauthlib>=0.7.0->google-auth-oauthlib>=0.0.1->pandas-gbq) (3.2.2)\n"
          ]
        }
      ]
    },
    {
      "cell_type": "code",
      "source": [
        "import os\n",
        "import time\n",
        "import pandas_gbq, pandas"
      ],
      "metadata": {
        "id": "I74HJ_rZWe4j"
      },
      "execution_count": 58,
      "outputs": []
    },
    {
      "cell_type": "code",
      "source": [
        "path_to_credentials = '/content/digitalskola-rheza-f5faffb7283c.json'\n",
        "os.environ['GOOGLE_APPLICATION_CREDENTIALS'] = path_to_credentials\n",
        "\n",
        "project_id=\"digitalskola-rheza\"\n",
        "dataset_id=\"project_5\""
      ],
      "metadata": {
        "id": "lRJafNPfWfFW"
      },
      "execution_count": 61,
      "outputs": []
    },
    {
      "cell_type": "markdown",
      "source": [
        "## Upload Jawaban Soal 1"
      ],
      "metadata": {
        "id": "6Z4aLLyTWUkf"
      }
    },
    {
      "cell_type": "code",
      "source": [
        "table_id=\"total_trip_per_day\"\n",
        "destination_table = f\"{dataset_id}.{table_id}\"\n",
        "pandas_df = df_1_result.toPandas()\n",
        "pandas_df['pickup_datetime'] = pandas_df['pickup_datetime'].astype('string') #need change datatype to string\n",
        "pandas_gbq.to_gbq(pandas_df, destination_table, project_id=project_id, if_exists='replace')\n",
        "print(pandas_df.dtypes)"
      ],
      "metadata": {
        "colab": {
          "base_uri": "https://localhost:8080/"
        },
        "id": "5J4xL8nfgrwK",
        "outputId": "e7860a1d-70ef-45d4-afd9-8cc758b0c7a8"
      },
      "execution_count": 67,
      "outputs": [
        {
          "output_type": "stream",
          "name": "stderr",
          "text": [
            "100%|██████████| 1/1 [00:00<00:00, 8594.89it/s]"
          ]
        },
        {
          "output_type": "stream",
          "name": "stdout",
          "text": [
            "pickup_datetime    string\n",
            "total_trip          int64\n",
            "dtype: object\n"
          ]
        },
        {
          "output_type": "stream",
          "name": "stderr",
          "text": [
            "\n"
          ]
        }
      ]
    },
    {
      "cell_type": "markdown",
      "source": [
        "## Upload Jawaban Soal 2"
      ],
      "metadata": {
        "id": "EpokhBNMjaix"
      }
    },
    {
      "cell_type": "code",
      "source": [
        "table_id=\"longest_trip_per_day\"\n",
        "destination_table = f\"{dataset_id}.{table_id}\"\n",
        "pandas_df = longest_trip.toPandas()\n",
        "pandas_df['date_group'] = pandas_df['date_group'].astype('string') #need change datatype to string\n",
        "pandas_gbq.to_gbq(pandas_df, destination_table, project_id=project_id, if_exists='replace')\n",
        "print(pandas_df.dtypes)"
      ],
      "metadata": {
        "colab": {
          "base_uri": "https://localhost:8080/"
        },
        "id": "KExcm44NjZ1_",
        "outputId": "ecc19636-7d95-443a-af19-6d4401f123e7"
      },
      "execution_count": 66,
      "outputs": [
        {
          "output_type": "stream",
          "name": "stderr",
          "text": [
            "100%|██████████| 1/1 [00:00<00:00, 2362.99it/s]"
          ]
        },
        {
          "output_type": "stream",
          "name": "stdout",
          "text": [
            "date_group                string\n",
            "dispatching_base_num      object\n",
            "trip_duration_minutes    float64\n",
            "dtype: object\n"
          ]
        },
        {
          "output_type": "stream",
          "name": "stderr",
          "text": [
            "\n"
          ]
        }
      ]
    },
    {
      "cell_type": "markdown",
      "source": [
        "## 3. Upload Jawaban Soal 3"
      ],
      "metadata": {
        "id": "iiqrPsCAlMMx"
      }
    },
    {
      "cell_type": "code",
      "source": [
        "#Find Top 5 Most frequent dispatching_base_num ?\n",
        "table_id=\"top_5_frequent_dispatching_base\"\n",
        "destination_table = f\"{dataset_id}.{table_id}\"\n",
        "pandas_df = df_3.toPandas()\n",
        "pandas_gbq.to_gbq(pandas_df, destination_table, project_id=project_id, if_exists='replace')\n",
        "print(pandas_df.dtypes)"
      ],
      "metadata": {
        "colab": {
          "base_uri": "https://localhost:8080/"
        },
        "id": "BvqXc_YAlMYw",
        "outputId": "c5012d95-9156-408b-eff9-c393b234cec4"
      },
      "execution_count": 68,
      "outputs": [
        {
          "output_type": "stream",
          "name": "stderr",
          "text": [
            "100%|██████████| 1/1 [00:00<00:00, 8050.49it/s]"
          ]
        },
        {
          "output_type": "stream",
          "name": "stdout",
          "text": [
            "dispatching_base_num    object\n",
            "total                    int64\n",
            "dtype: object\n"
          ]
        },
        {
          "output_type": "stream",
          "name": "stderr",
          "text": [
            "\n"
          ]
        }
      ]
    },
    {
      "cell_type": "markdown",
      "source": [
        "## 4. Upload Jawaban Soal 4"
      ],
      "metadata": {
        "id": "oQmMGpJam5FG"
      }
    },
    {
      "cell_type": "code",
      "source": [
        "#Find Top 5 Most common location pairs (`PUlocationID` and `DOlocationID`) ?\n",
        "table_id=\"top_5_location_pairs\"\n",
        "destination_table = f\"{dataset_id}.{table_id}\"\n",
        "pandas_df = df_4.toPandas()\n",
        "pandas_gbq.to_gbq(pandas_df, destination_table, project_id=project_id, if_exists='replace')\n",
        "print(pandas_df.dtypes)"
      ],
      "metadata": {
        "colab": {
          "base_uri": "https://localhost:8080/"
        },
        "id": "BRGSpfGLm4Jd",
        "outputId": "9878c6a8-e3db-4636-d6d8-e7a770146eaa"
      },
      "execution_count": 69,
      "outputs": [
        {
          "output_type": "stream",
          "name": "stderr",
          "text": [
            "100%|██████████| 1/1 [00:00<00:00, 2445.66it/s]"
          ]
        },
        {
          "output_type": "stream",
          "name": "stdout",
          "text": [
            "PUlocationID    float64\n",
            "DOlocationID    float64\n",
            "total             int64\n",
            "dtype: object\n"
          ]
        },
        {
          "output_type": "stream",
          "name": "stderr",
          "text": [
            "\n"
          ]
        }
      ]
    }
  ]
}